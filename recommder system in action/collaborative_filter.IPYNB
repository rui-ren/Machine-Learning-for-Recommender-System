{
 "cells": [
  {
   "cell_type": "code",
   "execution_count": 25,
   "metadata": {},
   "outputs": [],
   "source": [
    "\n",
    "import pandas as pd\n",
    "import numpy as np\n",
    "import matplotlib.pyplot as pyplot"
   ]
  },
  {
   "cell_type": "code",
   "execution_count": 26,
   "metadata": {},
   "outputs": [],
   "source": [
    "df = pd.read_csv('movie_ratings_df.csv', encoding = 'ISO-8859-1')"
   ]
  },
  {
   "cell_type": "code",
   "execution_count": 27,
   "metadata": {},
   "outputs": [
    {
     "output_type": "execute_result",
     "data": {
      "text/plain": "   userId         title  rating\n0     196  Kolya (1996)       3\n1      63  Kolya (1996)       3\n2     226  Kolya (1996)       5\n3     154  Kolya (1996)       3\n4     306  Kolya (1996)       5",
      "text/html": "<div>\n<style scoped>\n    .dataframe tbody tr th:only-of-type {\n        vertical-align: middle;\n    }\n\n    .dataframe tbody tr th {\n        vertical-align: top;\n    }\n\n    .dataframe thead th {\n        text-align: right;\n    }\n</style>\n<table border=\"1\" class=\"dataframe\">\n  <thead>\n    <tr style=\"text-align: right;\">\n      <th></th>\n      <th>userId</th>\n      <th>title</th>\n      <th>rating</th>\n    </tr>\n  </thead>\n  <tbody>\n    <tr>\n      <th>0</th>\n      <td>196</td>\n      <td>Kolya (1996)</td>\n      <td>3</td>\n    </tr>\n    <tr>\n      <th>1</th>\n      <td>63</td>\n      <td>Kolya (1996)</td>\n      <td>3</td>\n    </tr>\n    <tr>\n      <th>2</th>\n      <td>226</td>\n      <td>Kolya (1996)</td>\n      <td>5</td>\n    </tr>\n    <tr>\n      <th>3</th>\n      <td>154</td>\n      <td>Kolya (1996)</td>\n      <td>3</td>\n    </tr>\n    <tr>\n      <th>4</th>\n      <td>306</td>\n      <td>Kolya (1996)</td>\n      <td>5</td>\n    </tr>\n  </tbody>\n</table>\n</div>"
     },
     "metadata": {},
     "execution_count": 27
    }
   ],
   "source": [
    "df.head()"
   ]
  },
  {
   "cell_type": "markdown",
   "metadata": {},
   "source": []
  },
  {
   "cell_type": "code",
   "execution_count": 29,
   "metadata": {},
   "outputs": [],
   "source": [
    "# check the shape of the data frame"
   ]
  },
  {
   "cell_type": "code",
   "execution_count": 36,
   "metadata": {},
   "outputs": [
    {
     "output_type": "execute_result",
     "data": {
      "text/plain": "       userId                                              title  rating\n0         196                                       Kolya (1996)       3\n1518      196                                Men in Black (1997)       2\n13157     196                Truth About Cats & Dogs, The (1996)       4\n13622     196                               Birdcage, The (1996)       4\n14668     196  Adventures of Priscilla, Queen of the Desert, ...       4\n28289     196                               Groundhog Day (1993)       3\n34307     196                        Fish Called Wanda, A (1988)       5\n42467     196                        English Patient, The (1996)       5\n42983     196                     While You Were Sleeping (1995)       3\n44286     196                          That Thing You Do! (1996)       4\n46713     196                         Princess Bride, The (1987)       2\n47415     196                             Raising Arizona (1987)       4\n52120     196                                  Home Alone (1990)       3\n52573     196                             Beautiful Girls (1996)       3\n53901     196                            Muriel's Wedding (1994)       4\n54081     196        Mrs. Brown (Her Majesty, Mrs. Brown) (1997)       4\n54716     196                                        Babe (1995)       5\n57954     196                 Four Weddings and a Funeral (1994)       3\n58541     196                                 Stand by Me (1986)       5\n58878     196                            Mighty Aphrodite (1995)       2\n59607     196                     American President, The (1995)       5\n61655     196                Fast, Cheap & Out of Control (1997)       4\n63578     196                               Marvin's Room (1996)       3\n64087     196                             Full Monty, The (1997)       3\n66308     196                              Secrets & Lies (1996)       5\n66952     196                        Operation Dumbo Drop (1995)       1\n66958     196                             Shall We Dance? (1996)       3\n67442     196                              Mrs. Doubtfire (1993)       4\n69345     196                                 Being There (1979)       5\n75120     196  Englishman Who Went Up a Hill, But Came Down a...       2\n76044     196                            Harold and Maude (1971)       4\n76827     196                        Nutty Professor, The (1996)       4\n77389     196                           Cold Comfort Farm (1995)       3\n77998     196                         Waiting for Guffman (1996)       4\n82487     196                               Boogie Nights (1997)       3\n86068     196                  Ace Ventura: Pet Detective (1994)       5\n90876     196                                 Up in Smoke (1978)       4\n92604     196               Kids in the Hall: Brain Candy (1996)       4\n94003     196                                    Van, The (1996)       3",
      "text/html": "<div>\n<style scoped>\n    .dataframe tbody tr th:only-of-type {\n        vertical-align: middle;\n    }\n\n    .dataframe tbody tr th {\n        vertical-align: top;\n    }\n\n    .dataframe thead th {\n        text-align: right;\n    }\n</style>\n<table border=\"1\" class=\"dataframe\">\n  <thead>\n    <tr style=\"text-align: right;\">\n      <th></th>\n      <th>userId</th>\n      <th>title</th>\n      <th>rating</th>\n    </tr>\n  </thead>\n  <tbody>\n    <tr>\n      <th>0</th>\n      <td>196</td>\n      <td>Kolya (1996)</td>\n      <td>3</td>\n    </tr>\n    <tr>\n      <th>1518</th>\n      <td>196</td>\n      <td>Men in Black (1997)</td>\n      <td>2</td>\n    </tr>\n    <tr>\n      <th>13157</th>\n      <td>196</td>\n      <td>Truth About Cats &amp; Dogs, The (1996)</td>\n      <td>4</td>\n    </tr>\n    <tr>\n      <th>13622</th>\n      <td>196</td>\n      <td>Birdcage, The (1996)</td>\n      <td>4</td>\n    </tr>\n    <tr>\n      <th>14668</th>\n      <td>196</td>\n      <td>Adventures of Priscilla, Queen of the Desert, ...</td>\n      <td>4</td>\n    </tr>\n    <tr>\n      <th>28289</th>\n      <td>196</td>\n      <td>Groundhog Day (1993)</td>\n      <td>3</td>\n    </tr>\n    <tr>\n      <th>34307</th>\n      <td>196</td>\n      <td>Fish Called Wanda, A (1988)</td>\n      <td>5</td>\n    </tr>\n    <tr>\n      <th>42467</th>\n      <td>196</td>\n      <td>English Patient, The (1996)</td>\n      <td>5</td>\n    </tr>\n    <tr>\n      <th>42983</th>\n      <td>196</td>\n      <td>While You Were Sleeping (1995)</td>\n      <td>3</td>\n    </tr>\n    <tr>\n      <th>44286</th>\n      <td>196</td>\n      <td>That Thing You Do! (1996)</td>\n      <td>4</td>\n    </tr>\n    <tr>\n      <th>46713</th>\n      <td>196</td>\n      <td>Princess Bride, The (1987)</td>\n      <td>2</td>\n    </tr>\n    <tr>\n      <th>47415</th>\n      <td>196</td>\n      <td>Raising Arizona (1987)</td>\n      <td>4</td>\n    </tr>\n    <tr>\n      <th>52120</th>\n      <td>196</td>\n      <td>Home Alone (1990)</td>\n      <td>3</td>\n    </tr>\n    <tr>\n      <th>52573</th>\n      <td>196</td>\n      <td>Beautiful Girls (1996)</td>\n      <td>3</td>\n    </tr>\n    <tr>\n      <th>53901</th>\n      <td>196</td>\n      <td>Muriel's Wedding (1994)</td>\n      <td>4</td>\n    </tr>\n    <tr>\n      <th>54081</th>\n      <td>196</td>\n      <td>Mrs. Brown (Her Majesty, Mrs. Brown) (1997)</td>\n      <td>4</td>\n    </tr>\n    <tr>\n      <th>54716</th>\n      <td>196</td>\n      <td>Babe (1995)</td>\n      <td>5</td>\n    </tr>\n    <tr>\n      <th>57954</th>\n      <td>196</td>\n      <td>Four Weddings and a Funeral (1994)</td>\n      <td>3</td>\n    </tr>\n    <tr>\n      <th>58541</th>\n      <td>196</td>\n      <td>Stand by Me (1986)</td>\n      <td>5</td>\n    </tr>\n    <tr>\n      <th>58878</th>\n      <td>196</td>\n      <td>Mighty Aphrodite (1995)</td>\n      <td>2</td>\n    </tr>\n    <tr>\n      <th>59607</th>\n      <td>196</td>\n      <td>American President, The (1995)</td>\n      <td>5</td>\n    </tr>\n    <tr>\n      <th>61655</th>\n      <td>196</td>\n      <td>Fast, Cheap &amp; Out of Control (1997)</td>\n      <td>4</td>\n    </tr>\n    <tr>\n      <th>63578</th>\n      <td>196</td>\n      <td>Marvin's Room (1996)</td>\n      <td>3</td>\n    </tr>\n    <tr>\n      <th>64087</th>\n      <td>196</td>\n      <td>Full Monty, The (1997)</td>\n      <td>3</td>\n    </tr>\n    <tr>\n      <th>66308</th>\n      <td>196</td>\n      <td>Secrets &amp; Lies (1996)</td>\n      <td>5</td>\n    </tr>\n    <tr>\n      <th>66952</th>\n      <td>196</td>\n      <td>Operation Dumbo Drop (1995)</td>\n      <td>1</td>\n    </tr>\n    <tr>\n      <th>66958</th>\n      <td>196</td>\n      <td>Shall We Dance? (1996)</td>\n      <td>3</td>\n    </tr>\n    <tr>\n      <th>67442</th>\n      <td>196</td>\n      <td>Mrs. Doubtfire (1993)</td>\n      <td>4</td>\n    </tr>\n    <tr>\n      <th>69345</th>\n      <td>196</td>\n      <td>Being There (1979)</td>\n      <td>5</td>\n    </tr>\n    <tr>\n      <th>75120</th>\n      <td>196</td>\n      <td>Englishman Who Went Up a Hill, But Came Down a...</td>\n      <td>2</td>\n    </tr>\n    <tr>\n      <th>76044</th>\n      <td>196</td>\n      <td>Harold and Maude (1971)</td>\n      <td>4</td>\n    </tr>\n    <tr>\n      <th>76827</th>\n      <td>196</td>\n      <td>Nutty Professor, The (1996)</td>\n      <td>4</td>\n    </tr>\n    <tr>\n      <th>77389</th>\n      <td>196</td>\n      <td>Cold Comfort Farm (1995)</td>\n      <td>3</td>\n    </tr>\n    <tr>\n      <th>77998</th>\n      <td>196</td>\n      <td>Waiting for Guffman (1996)</td>\n      <td>4</td>\n    </tr>\n    <tr>\n      <th>82487</th>\n      <td>196</td>\n      <td>Boogie Nights (1997)</td>\n      <td>3</td>\n    </tr>\n    <tr>\n      <th>86068</th>\n      <td>196</td>\n      <td>Ace Ventura: Pet Detective (1994)</td>\n      <td>5</td>\n    </tr>\n    <tr>\n      <th>90876</th>\n      <td>196</td>\n      <td>Up in Smoke (1978)</td>\n      <td>4</td>\n    </tr>\n    <tr>\n      <th>92604</th>\n      <td>196</td>\n      <td>Kids in the Hall: Brain Candy (1996)</td>\n      <td>4</td>\n    </tr>\n    <tr>\n      <th>94003</th>\n      <td>196</td>\n      <td>Van, The (1996)</td>\n      <td>3</td>\n    </tr>\n  </tbody>\n</table>\n</div>"
     },
     "metadata": {},
     "execution_count": 36
    }
   ],
   "source": [
    "df[df.userId == 196]"
   ]
  },
  {
   "cell_type": "code",
   "execution_count": 47,
   "metadata": {},
   "outputs": [
    {
     "output_type": "execute_result",
     "data": {
      "text/plain": "   userId         title  rating\n0     196  Kolya (1996)       3\n1      63  Kolya (1996)       3\n2     226  Kolya (1996)       5\n3     154  Kolya (1996)       3\n4     306  Kolya (1996)       5",
      "text/html": "<div>\n<style scoped>\n    .dataframe tbody tr th:only-of-type {\n        vertical-align: middle;\n    }\n\n    .dataframe tbody tr th {\n        vertical-align: top;\n    }\n\n    .dataframe thead th {\n        text-align: right;\n    }\n</style>\n<table border=\"1\" class=\"dataframe\">\n  <thead>\n    <tr style=\"text-align: right;\">\n      <th></th>\n      <th>userId</th>\n      <th>title</th>\n      <th>rating</th>\n    </tr>\n  </thead>\n  <tbody>\n    <tr>\n      <th>0</th>\n      <td>196</td>\n      <td>Kolya (1996)</td>\n      <td>3</td>\n    </tr>\n    <tr>\n      <th>1</th>\n      <td>63</td>\n      <td>Kolya (1996)</td>\n      <td>3</td>\n    </tr>\n    <tr>\n      <th>2</th>\n      <td>226</td>\n      <td>Kolya (1996)</td>\n      <td>5</td>\n    </tr>\n    <tr>\n      <th>3</th>\n      <td>154</td>\n      <td>Kolya (1996)</td>\n      <td>3</td>\n    </tr>\n    <tr>\n      <th>4</th>\n      <td>306</td>\n      <td>Kolya (1996)</td>\n      <td>5</td>\n    </tr>\n  </tbody>\n</table>\n</div>"
     },
     "metadata": {},
     "execution_count": 47
    }
   ],
   "source": [
    "df.head()"
   ]
  },
  {
   "cell_type": "code",
   "execution_count": 50,
   "metadata": {},
   "outputs": [],
   "source": [
    "df.set_index('userId', inplace=True)"
   ]
  },
  {
   "cell_type": "code",
   "execution_count": 54,
   "metadata": {},
   "outputs": [
    {
     "output_type": "execute_result",
     "data": {
      "text/plain": "                                                    rating\ntitle                                                     \n'Til There Was You (1997)                                9\n1-900 (1994)                                             5\n101 Dalmatians (1996)                                  109\n12 Angry Men (1957)                                    125\n187 (1997)                                              41\n2 Days in the Valley (1996)                             93\n20,000 Leagues Under the Sea (1954)                     72\n2001: A Space Odyssey (1968)                           259\n3 Ninjas: High Noon At Mega Mountain (1998)              5\n39 Steps, The (1935)                                    59\n8 1/2 (1963)                                            38\n8 Heads in a Duffel Bag (1997)                           4\n8 Seconds (1994)                                         4\nA Chef in Love (1996)                                    8\nAbove the Rim (1994)                                     5\nAbsolute Power (1997)                                  127\nAbyss, The (1989)                                      151\nAce Ventura: Pet Detective (1994)                      103\nAce Ventura: When Nature Calls (1995)                   37\nAcross the Sea of Time (1995)                            4\nAddams Family Values (1993)                             87\nAddicted to Love (1997)                                 54\nAddiction, The (1995)                                   11\nAdventures of Pinocchio, The (1996)                     39\nAdventures of Priscilla, Queen of the Desert, T...     111\nAdventures of Robin Hood, The (1938)                    67\nAffair to Remember, An (1957)                           26\nAfrican Queen, The (1951)                              152\nAfterglow (1997)                                        18\nAge of Innocence, The (1993)                            65\n...                                                    ...\nWindow to Paris (1994)                                   1\nWings of Courage (1995)                                  1\nWings of Desire (1987)                                  57\nWings of the Dove, The (1997)                           75\nWinnie the Pooh and the Blustery Day (1968)             75\nWinter Guest, The (1997)                                 9\nWishmaster (1997)                                       27\nWith Honors (1994)                                      46\nWithnail and I (1987)                                   13\nWitness (1985)                                           1\nWizard of Oz, The (1939)                               246\nWolf (1994)                                             67\nWoman in Question, The (1950)                            1\nWomen, The (1939)                                       15\nWonderful, Horrible Life of Leni Riefenstahl, T...      10\nWonderland (1997)                                       10\nWooden Man's Bride, The (Wu Kui) (1994)                  3\nWorld of Apu, The (Apur Sansar) (1959)                   6\nWrong Trousers, The (1993)                             118\nWyatt Earp (1994)                                       50\nYankee Zulu (1994)                                       1\nYear of the Horse (1997)                                 7\nYou So Crazy (1994)                                      1\nYoung Frankenstein (1974)                              200\nYoung Guns (1988)                                      101\nYoung Guns II (1990)                                    44\nYoung Poisoner's Handbook, The (1995)                   41\nZeus and Roxanne (1997)                                  6\nunknown                                                  9\nç kldum klaka (Cold Fever) (1994)                       1\n\n[1664 rows x 1 columns]",
      "text/html": "<div>\n<style scoped>\n    .dataframe tbody tr th:only-of-type {\n        vertical-align: middle;\n    }\n\n    .dataframe tbody tr th {\n        vertical-align: top;\n    }\n\n    .dataframe thead th {\n        text-align: right;\n    }\n</style>\n<table border=\"1\" class=\"dataframe\">\n  <thead>\n    <tr style=\"text-align: right;\">\n      <th></th>\n      <th>rating</th>\n    </tr>\n    <tr>\n      <th>title</th>\n      <th></th>\n    </tr>\n  </thead>\n  <tbody>\n    <tr>\n      <th>'Til There Was You (1997)</th>\n      <td>9</td>\n    </tr>\n    <tr>\n      <th>1-900 (1994)</th>\n      <td>5</td>\n    </tr>\n    <tr>\n      <th>101 Dalmatians (1996)</th>\n      <td>109</td>\n    </tr>\n    <tr>\n      <th>12 Angry Men (1957)</th>\n      <td>125</td>\n    </tr>\n    <tr>\n      <th>187 (1997)</th>\n      <td>41</td>\n    </tr>\n    <tr>\n      <th>2 Days in the Valley (1996)</th>\n      <td>93</td>\n    </tr>\n    <tr>\n      <th>20,000 Leagues Under the Sea (1954)</th>\n      <td>72</td>\n    </tr>\n    <tr>\n      <th>2001: A Space Odyssey (1968)</th>\n      <td>259</td>\n    </tr>\n    <tr>\n      <th>3 Ninjas: High Noon At Mega Mountain (1998)</th>\n      <td>5</td>\n    </tr>\n    <tr>\n      <th>39 Steps, The (1935)</th>\n      <td>59</td>\n    </tr>\n    <tr>\n      <th>8 1/2 (1963)</th>\n      <td>38</td>\n    </tr>\n    <tr>\n      <th>8 Heads in a Duffel Bag (1997)</th>\n      <td>4</td>\n    </tr>\n    <tr>\n      <th>8 Seconds (1994)</th>\n      <td>4</td>\n    </tr>\n    <tr>\n      <th>A Chef in Love (1996)</th>\n      <td>8</td>\n    </tr>\n    <tr>\n      <th>Above the Rim (1994)</th>\n      <td>5</td>\n    </tr>\n    <tr>\n      <th>Absolute Power (1997)</th>\n      <td>127</td>\n    </tr>\n    <tr>\n      <th>Abyss, The (1989)</th>\n      <td>151</td>\n    </tr>\n    <tr>\n      <th>Ace Ventura: Pet Detective (1994)</th>\n      <td>103</td>\n    </tr>\n    <tr>\n      <th>Ace Ventura: When Nature Calls (1995)</th>\n      <td>37</td>\n    </tr>\n    <tr>\n      <th>Across the Sea of Time (1995)</th>\n      <td>4</td>\n    </tr>\n    <tr>\n      <th>Addams Family Values (1993)</th>\n      <td>87</td>\n    </tr>\n    <tr>\n      <th>Addicted to Love (1997)</th>\n      <td>54</td>\n    </tr>\n    <tr>\n      <th>Addiction, The (1995)</th>\n      <td>11</td>\n    </tr>\n    <tr>\n      <th>Adventures of Pinocchio, The (1996)</th>\n      <td>39</td>\n    </tr>\n    <tr>\n      <th>Adventures of Priscilla, Queen of the Desert, The (1994)</th>\n      <td>111</td>\n    </tr>\n    <tr>\n      <th>Adventures of Robin Hood, The (1938)</th>\n      <td>67</td>\n    </tr>\n    <tr>\n      <th>Affair to Remember, An (1957)</th>\n      <td>26</td>\n    </tr>\n    <tr>\n      <th>African Queen, The (1951)</th>\n      <td>152</td>\n    </tr>\n    <tr>\n      <th>Afterglow (1997)</th>\n      <td>18</td>\n    </tr>\n    <tr>\n      <th>Age of Innocence, The (1993)</th>\n      <td>65</td>\n    </tr>\n    <tr>\n      <th>...</th>\n      <td>...</td>\n    </tr>\n    <tr>\n      <th>Window to Paris (1994)</th>\n      <td>1</td>\n    </tr>\n    <tr>\n      <th>Wings of Courage (1995)</th>\n      <td>1</td>\n    </tr>\n    <tr>\n      <th>Wings of Desire (1987)</th>\n      <td>57</td>\n    </tr>\n    <tr>\n      <th>Wings of the Dove, The (1997)</th>\n      <td>75</td>\n    </tr>\n    <tr>\n      <th>Winnie the Pooh and the Blustery Day (1968)</th>\n      <td>75</td>\n    </tr>\n    <tr>\n      <th>Winter Guest, The (1997)</th>\n      <td>9</td>\n    </tr>\n    <tr>\n      <th>Wishmaster (1997)</th>\n      <td>27</td>\n    </tr>\n    <tr>\n      <th>With Honors (1994)</th>\n      <td>46</td>\n    </tr>\n    <tr>\n      <th>Withnail and I (1987)</th>\n      <td>13</td>\n    </tr>\n    <tr>\n      <th>Witness (1985)</th>\n      <td>1</td>\n    </tr>\n    <tr>\n      <th>Wizard of Oz, The (1939)</th>\n      <td>246</td>\n    </tr>\n    <tr>\n      <th>Wolf (1994)</th>\n      <td>67</td>\n    </tr>\n    <tr>\n      <th>Woman in Question, The (1950)</th>\n      <td>1</td>\n    </tr>\n    <tr>\n      <th>Women, The (1939)</th>\n      <td>15</td>\n    </tr>\n    <tr>\n      <th>Wonderful, Horrible Life of Leni Riefenstahl, The (1993)</th>\n      <td>10</td>\n    </tr>\n    <tr>\n      <th>Wonderland (1997)</th>\n      <td>10</td>\n    </tr>\n    <tr>\n      <th>Wooden Man's Bride, The (Wu Kui) (1994)</th>\n      <td>3</td>\n    </tr>\n    <tr>\n      <th>World of Apu, The (Apur Sansar) (1959)</th>\n      <td>6</td>\n    </tr>\n    <tr>\n      <th>Wrong Trousers, The (1993)</th>\n      <td>118</td>\n    </tr>\n    <tr>\n      <th>Wyatt Earp (1994)</th>\n      <td>50</td>\n    </tr>\n    <tr>\n      <th>Yankee Zulu (1994)</th>\n      <td>1</td>\n    </tr>\n    <tr>\n      <th>Year of the Horse (1997)</th>\n      <td>7</td>\n    </tr>\n    <tr>\n      <th>You So Crazy (1994)</th>\n      <td>1</td>\n    </tr>\n    <tr>\n      <th>Young Frankenstein (1974)</th>\n      <td>200</td>\n    </tr>\n    <tr>\n      <th>Young Guns (1988)</th>\n      <td>101</td>\n    </tr>\n    <tr>\n      <th>Young Guns II (1990)</th>\n      <td>44</td>\n    </tr>\n    <tr>\n      <th>Young Poisoner's Handbook, The (1995)</th>\n      <td>41</td>\n    </tr>\n    <tr>\n      <th>Zeus and Roxanne (1997)</th>\n      <td>6</td>\n    </tr>\n    <tr>\n      <th>unknown</th>\n      <td>9</td>\n    </tr>\n    <tr>\n      <th>ç kldum klaka (Cold Fever) (1994)</th>\n      <td>1</td>\n    </tr>\n  </tbody>\n</table>\n<p>1664 rows × 1 columns</p>\n</div>"
     },
     "metadata": {},
     "execution_count": 54
    }
   ],
   "source": [
    "df.groupby(['title']).count()"
   ]
  },
  {
   "cell_type": "code",
   "execution_count": null,
   "metadata": {},
   "outputs": [],
   "source": []
  }
 ],
 "metadata": {
  "language_info": {
   "codemirror_mode": {
    "name": "ipython",
    "version": 3
   },
   "file_extension": ".py",
   "mimetype": "text/x-python",
   "name": "python",
   "nbconvert_exporter": "python",
   "pygments_lexer": "ipython3",
   "version": "3.7.5-final"
  },
  "orig_nbformat": 2,
  "kernelspec": {
   "name": "python3",
   "display_name": "Python 3"
  }
 },
 "nbformat": 4,
 "nbformat_minor": 2
}